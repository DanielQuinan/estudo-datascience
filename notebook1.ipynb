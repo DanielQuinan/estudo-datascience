{
 "cells": [
  {
   "cell_type": "code",
   "execution_count": null,
   "metadata": {},
   "outputs": [],
   "source": [
    "print(\"Bem-vindo ao Calculador de Área de Paralelogramo\")\n",
    "comprimentobase = input(\"Insira o comprimento de base: \")\n",
    "altura = input(\"Insira a altura: \")\n",
    "areaparalelogramo = float(comprimentobase) * float(altura)\n",
    "print(\"O cálculo da área do paralelogramo é de:{}\".format(areaparalelogramo))"
   ]
  },
  {
   "cell_type": "code",
   "execution_count": null,
   "metadata": {},
   "outputs": [],
   "source": [
    "print(\"Bem-vindo a Calculadora\")\n",
    "n1 = float(input(\"Insira o primeiro número: \"))\n",
    "n2 = float(input(\"Insira o segundo número: \"))\n",
    "o = input(\"Insira o operador (+, -, *, /): \")\n",
    "if o == \"+\":\n",
    "    result = n1 + n2\n",
    "    print(\"O Resultado foi {}\".format(result))\n",
    "elif o == \"-\":\n",
    "    result = n1 - n2\n",
    "    print(\"O Resultado foi {}\".format(result))\n",
    "elif o == \"*\":\n",
    "    result = n1 * n2\n",
    "    print(\"O Resultado foi {}\".format(result))\n",
    "elif o == \"/\" and n2 != 0:\n",
    "    result = n1 / n2\n",
    "    print(\"O Resultado foi {}\".format(result))\n",
    "else:\n",
    "    print(\"Incorreto, tente novamente\")"
   ]
  },
  {
   "cell_type": "code",
   "execution_count": null,
   "metadata": {},
   "outputs": [],
   "source": [
    "lista = [6, 10, 20, 31, 53, 1, 42, 3, 4, 7, 11, 2, 0]\n",
    "\n",
    "def bubble_sort(arr):\n",
    "\n",
    "    n = len(arr)\n",
    "\n",
    "    for i in range(n):\n",
    "        for j in range(0, n-i-1):\n",
    "            if arr[j] > arr[j+1]:\n",
    "                arr[j], arr[j+1] = arr[j+1], arr[j]\n",
    "    return arr\n",
    "\n",
    "print(bubble_sort(lista))\n"
   ]
  },
  {
   "cell_type": "code",
   "execution_count": 3,
   "metadata": {},
   "outputs": [
    {
     "name": "stdout",
     "output_type": "stream",
     "text": [
      "1\n",
      "2\n",
      "3\n",
      "4\n",
      "5\n",
      "6\n"
     ]
    }
   ],
   "source": [
    "lista1 = [1, 2, 3]\n",
    "lista2 = [4, 5, 6]\n",
    "\n",
    "for i in [lista1, lista2]:\n",
    "    for num in i:\n",
    "        print(num)\n"
   ]
  }
 ],
 "metadata": {
  "kernelspec": {
   "display_name": "Python 3",
   "language": "python",
   "name": "python3"
  },
  "language_info": {
   "codemirror_mode": {
    "name": "ipython",
    "version": 3
   },
   "file_extension": ".py",
   "mimetype": "text/x-python",
   "name": "python",
   "nbconvert_exporter": "python",
   "pygments_lexer": "ipython3",
   "version": "3.11.2"
  },
  "orig_nbformat": 4
 },
 "nbformat": 4,
 "nbformat_minor": 2
}
